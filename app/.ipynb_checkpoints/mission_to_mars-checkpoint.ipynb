{
 "cells": [
  {
   "cell_type": "code",
   "execution_count": 26,
   "metadata": {},
   "outputs": [],
   "source": [
    "# Dependencies\n",
    "from bs4 import BeautifulSoup\n",
    "import requests\n",
    "from selenium import webdriver\n",
    "from selenium.webdriver.common.by import By\n",
    "from selenium.webdriver.support.ui import WebDriverWait\n",
    "from selenium.webdriver.support import expected_conditions as EC\n",
    "from splinter import Browser\n",
    "\n",
    "executable_path = {'executable_path': 'chromedriver.exe'}\n",
    "browser = webdriver.Chrome(\"./chromedriver\")"
   ]
  },
  {
   "cell_type": "code",
   "execution_count": 27,
   "metadata": {},
   "outputs": [
    {
     "data": {
      "text/plain": [
       "'https://mars.nasa.gov/news/'"
      ]
     },
     "execution_count": 27,
     "metadata": {},
     "output_type": "execute_result"
    }
   ],
   "source": [
    "# URL of Python reddit\n",
    "url = 'https://mars.nasa.gov/news/'\n",
    "url"
   ]
  },
  {
   "cell_type": "code",
   "execution_count": 28,
   "metadata": {},
   "outputs": [
    {
     "data": {
      "text/plain": [
       "<Response [200]>"
      ]
     },
     "execution_count": 28,
     "metadata": {},
     "output_type": "execute_result"
    }
   ],
   "source": [
    "response = requests.get(url)\n",
    "response"
   ]
  },
  {
   "cell_type": "code",
   "execution_count": 29,
   "metadata": {},
   "outputs": [
    {
     "ename": "AttributeError",
     "evalue": "'WebDriver' object has no attribute 'get'",
     "output_type": "error",
     "traceback": [
      "\u001b[1;31m---------------------------------------------------------------------------\u001b[0m",
      "\u001b[1;31mAttributeError\u001b[0m                            Traceback (most recent call last)",
      "\u001b[1;32m<ipython-input-29-9218df42c176>\u001b[0m in \u001b[0;36m<module>\u001b[1;34m()\u001b[0m\n\u001b[1;32m----> 1\u001b[1;33m \u001b[0mbrowser\u001b[0m\u001b[1;33m.\u001b[0m\u001b[0mget\u001b[0m\u001b[1;33m(\u001b[0m\u001b[0murl\u001b[0m\u001b[1;33m)\u001b[0m\u001b[1;33m\u001b[0m\u001b[0m\n\u001b[0m\u001b[0;32m      2\u001b[0m \u001b[0msoup\u001b[0m \u001b[1;33m=\u001b[0m \u001b[0mBeautifulSoup\u001b[0m\u001b[1;33m(\u001b[0m\u001b[0mbrowser\u001b[0m\u001b[1;33m.\u001b[0m\u001b[0mpage_source\u001b[0m\u001b[1;33m,\u001b[0m\u001b[1;34m\"html.parser\"\u001b[0m\u001b[1;33m)\u001b[0m\u001b[1;33m\u001b[0m\u001b[0m\n\u001b[0;32m      3\u001b[0m \u001b[1;33m\u001b[0m\u001b[0m\n\u001b[0;32m      4\u001b[0m \u001b[0msoup\u001b[0m\u001b[1;33m\u001b[0m\u001b[0m\n",
      "\u001b[1;31mAttributeError\u001b[0m: 'WebDriver' object has no attribute 'get'"
     ]
    }
   ],
   "source": [
    "browser.get(url)\n",
    "soup = BeautifulSoup(browser.page_source,\"html.parser\")\n",
    "\n",
    "soup"
   ]
  },
  {
   "cell_type": "code",
   "execution_count": 20,
   "metadata": {},
   "outputs": [
    {
     "data": {
      "text/plain": [
       "<div id=\"page\">\n",
       "<!-- title to go in the page_header -->\n",
       "<div class=\"header_mask\">\n",
       "<section class=\"content_page module\"></section>\n",
       "</div>\n",
       "<div class=\"grid_list_page module content_page\">\n",
       "<div class=\"grid_layout\">\n",
       "<article>\n",
       "<header id=\"page_header\">\n",
       "</header>\n",
       "<div class=\"react_grid_list\" data-react-class=\"GridListPage\" data-react-props='{\"left_column\":false,\"class_name\":\"\",\"default_view\":\"list_view\",\"model\":\"news_items\",\"view_toggle\":false,\"search\":\"true\",\"list_item\":\"News\",\"title\":\"News\",\"categories\":[\"19,165,184,204\"],\"order\":\"publish_date desc,created_at desc\",\"no_items_text\":\"There are no items matching these criteria.\",\"site_title\":\"NASA’s Mars Exploration Program \",\"short_title\":\"Mars\",\"site_share_image\":\"/system/site_config_values/meta_share_images/1_142497main_PIA03154-200.jpg\",\"per_page\":null,\"filters\":\"[ [ \\\"date\\\", [ [ \\\"2018\\\", \\\"2018\\\" ], [ \\\"2017\\\", \\\"2017\\\" ], [ \\\"2016\\\", \\\"2016\\\" ], [ \\\"2015\\\", \\\"2015\\\" ], [ \\\"2014\\\", \\\"2014\\\" ], [ \\\"2013\\\", \\\"2013\\\" ], [ \\\"2012\\\", \\\"2012\\\" ], [ \\\"2011\\\", \\\"2011\\\" ], [ \\\"2010\\\", \\\"2010\\\" ], [ \\\"2009\\\", \\\"2009\\\" ], [ \\\"2008\\\", \\\"2008\\\" ], [ \\\"2007\\\", \\\"2007\\\" ], [ \\\"2006\\\", \\\"2006\\\" ], [ \\\"2005\\\", \\\"2005\\\" ], [ \\\"2004\\\", \\\"2004\\\" ], [ \\\"2003\\\", \\\"2003\\\" ], [ \\\"2002\\\", \\\"2002\\\" ], [ \\\"2001\\\", \\\"2001\\\" ], [ \\\"2000\\\", \\\"2000\\\" ] ], [ \\\"Latest\\\", \\\"\\\" ], false ], [ \\\"categories\\\", [ [ \\\"Feature Stories\\\", 165 ], [ \\\"Press Releases\\\", 19 ], [ \\\"Spotlights\\\", 184 ], [ \\\"Status Reports\\\", 204 ] ], [ \\\"All Categories\\\", \\\"\\\" ], false ] ]\",\"conditions\":null,\"scope_in_title\":true,\"options\":{\"blank_scope\":\"Latest\"},\"results_in_title\":false}'></div>\n",
       "</article>\n",
       "</div>\n",
       "</div>\n",
       "<section class=\"module suggested_features\">\n",
       "<div class=\"grid_layout\">\n",
       "<header>\n",
       "<h2 class=\"module_title\">You Might Also Like</h2>\n",
       "</header>\n",
       "<section>\n",
       "<script>\n",
       "  $(document).ready(function(){\n",
       "    $(\".features\").slick({\n",
       "      dots: false,\n",
       "      infinite: true,\n",
       "      speed: 300,\n",
       "      slide: '.features .slide',\n",
       "      slidesToShow: 3,\n",
       "      slidesToScroll: 3,\n",
       "      lazyLoad: 'ondemand',\n",
       "      centerMode: false,\n",
       "      arrows: true,\n",
       "      appendArrows: '.features .slick-nav',\n",
       "      appendDots: \".features .slick-nav\",\n",
       "      responsive: [{\"breakpoint\":953,\"settings\":{\"slidesToShow\":2,\"slidesToScroll\":2,\"centerMode\":false}},{\"breakpoint\":480,\"settings\":{\"slidesToShow\":1,\"slidesToScroll\":1,\"centerMode\":true,\"arrows\":false,\"centerPadding\":\"25px\"}}]\n",
       "    });\n",
       "  });\n",
       "</script>\n",
       "<div class=\"features\">\n",
       "<div class=\"slide\">\n",
       "<div class=\"image_and_description_container\">\n",
       "<a href=\"/news/8348/opportunity-hunkers-down-during-dust-storm/\">\n",
       "<div class=\"rollover_description\">\n",
       "<div class=\"rollover_description_inner\">\n",
       "It's the beginning of the end for the planet-encircling dust storm on Mars. But it could still be weeks, or even months, before skies are clear enough for NASA's Opportunity rover to recharge its batteries and phone home. \n",
       "</div>\n",
       "<div class=\"overlay_arrow\">\n",
       "<img alt=\"More\" src=\"/assets/overlay-arrow.png\"/>\n",
       "</div>\n",
       "</div>\n",
       "<img alt=\"Opportunity Hunkers Down During Dust Storm\" class=\"img-lazy\" data-lazy=\"/system/news_items/list_view_images/8348_PIA22521-320.jpg\" src=\"/assets/loading_320x240.png\"/>\n",
       "</a>\n",
       "</div>\n",
       "<div class=\"content_title\">\n",
       "<a href=\"/news/8348/opportunity-hunkers-down-during-dust-storm/\">\n",
       "Opportunity Hunkers Down During Dust Storm\n",
       "</a>\n",
       "</div>\n",
       "</div>\n",
       "<div class=\"slide\">\n",
       "<div class=\"image_and_description_container\">\n",
       "<a href=\"/news/8347/nasa-finds-ancient-organic-material-mysterious-methane-on-mars/\">\n",
       "<div class=\"rollover_description\">\n",
       "<div class=\"rollover_description_inner\">\n",
       "NASA’s Curiosity rover has found evidence on Mars with implications for NASA’s search for life.\n",
       "</div>\n",
       "<div class=\"overlay_arrow\">\n",
       "<img alt=\"More\" src=\"/assets/overlay-arrow.png\"/>\n",
       "</div>\n",
       "</div>\n",
       "<img alt=\"NASA Finds Ancient Organic Material, Mysterious Methane on Mars\" class=\"img-lazy\" data-lazy=\"/system/news_items/list_view_images/8347_curiosity_methane-320.jpg\" src=\"/assets/loading_320x240.png\"/>\n",
       "</a>\n",
       "</div>\n",
       "<div class=\"content_title\">\n",
       "<a href=\"/news/8347/nasa-finds-ancient-organic-material-mysterious-methane-on-mars/\">\n",
       "NASA Finds Ancient Organic Material, Mysterious Methane on Mars\n",
       "</a>\n",
       "</div>\n",
       "</div>\n",
       "<div class=\"slide\">\n",
       "<div class=\"image_and_description_container\">\n",
       "<a href=\"/news/8326/nasa-invests-in-visionary-technology/\">\n",
       "<div class=\"rollover_description\">\n",
       "<div class=\"rollover_description_inner\">\n",
       "NASA is investing in technology concepts, including several from JPL, that may one day be used for future space exploration missions.\n",
       "</div>\n",
       "<div class=\"overlay_arrow\">\n",
       "<img alt=\"More\" src=\"/assets/overlay-arrow.png\"/>\n",
       "</div>\n",
       "</div>\n",
       "<img alt=\"NASA Invests in Visionary Technology \" class=\"img-lazy\" data-lazy=\"/system/news_items/list_view_images/8326_niac320.jpg\" src=\"/assets/loading_320x240.png\"/>\n",
       "</a>\n",
       "</div>\n",
       "<div class=\"content_title\">\n",
       "<a href=\"/news/8326/nasa-invests-in-visionary-technology/\">\n",
       "NASA Invests in Visionary Technology \n",
       "</a>\n",
       "</div>\n",
       "</div>\n",
       "<div class=\"slide\">\n",
       "<div class=\"image_and_description_container\">\n",
       "<a href=\"/news/8325/nasa-is-ready-to-study-the-heart-of-mars/\">\n",
       "<div class=\"rollover_description\">\n",
       "<div class=\"rollover_description_inner\">\n",
       "NASA is about to go on a journey to study the center of Mars.\n",
       "</div>\n",
       "<div class=\"overlay_arrow\">\n",
       "<img alt=\"More\" src=\"/assets/overlay-arrow.png\"/>\n",
       "</div>\n",
       "</div>\n",
       "<img alt=\"NASA is Ready to Study the Heart of Mars\" class=\"img-lazy\" data-lazy=\"/system/news_items/list_view_images/8325_insight20180329b_320.jpg\" src=\"/assets/loading_320x240.png\"/>\n",
       "</a>\n",
       "</div>\n",
       "<div class=\"content_title\">\n",
       "<a href=\"/news/8325/nasa-is-ready-to-study-the-heart-of-mars/\">\n",
       "NASA is Ready to Study the Heart of Mars\n",
       "</a>\n",
       "</div>\n",
       "</div>\n",
       "<div class=\"slide\">\n",
       "<div class=\"image_and_description_container\">\n",
       "<a href=\"/news/8322/nasa-briefing-on-first-mission-to-study-mars-interior/\">\n",
       "<div class=\"rollover_description\">\n",
       "<div class=\"rollover_description_inner\">\n",
       "NASA’s next mission to Mars will be the topic of a media briefing Thursday, March 29, at JPL. The briefing will air live on NASA Television and the agency’s website.\n",
       "</div>\n",
       "<div class=\"overlay_arrow\">\n",
       "<img alt=\"More\" src=\"/assets/overlay-arrow.png\"/>\n",
       "</div>\n",
       "</div>\n",
       "<img alt=\"NASA Briefing on First Mission to Study Mars Interior\" class=\"img-lazy\" data-lazy=\"/system/news_items/list_view_images/8322_PIA22228_320.jpg\" src=\"/assets/loading_320x240.png\"/>\n",
       "</a>\n",
       "</div>\n",
       "<div class=\"content_title\">\n",
       "<a href=\"/news/8322/nasa-briefing-on-first-mission-to-study-mars-interior/\">\n",
       "NASA Briefing on First Mission to Study Mars Interior\n",
       "</a>\n",
       "</div>\n",
       "</div>\n",
       "<div class=\"slide\">\n",
       "<div class=\"image_and_description_container\">\n",
       "<a href=\"/news/8321/new-ar-mobile-app-features-3-d-nasa-spacecraft/\">\n",
       "<div class=\"rollover_description\">\n",
       "<div class=\"rollover_description_inner\">\n",
       "NASA spacecraft travel to far-off destinations in space, but a new mobile app produced by NASA's Jet Propulsion Laboratory, Pasadena, California, brings spacecraft to users.\n",
       "</div>\n",
       "<div class=\"overlay_arrow\">\n",
       "<img alt=\"More\" src=\"/assets/overlay-arrow.png\"/>\n",
       "</div>\n",
       "</div>\n",
       "<img alt=\"New 'AR' Mobile App Features 3-D NASA Spacecraft\" class=\"img-lazy\" data-lazy=\"/system/news_items/list_view_images/8321_list_image.jpg\" src=\"/assets/loading_320x240.png\"/>\n",
       "</a>\n",
       "</div>\n",
       "<div class=\"content_title\">\n",
       "<a href=\"/news/8321/new-ar-mobile-app-features-3-d-nasa-spacecraft/\">\n",
       "New 'AR' Mobile App Features 3-D NASA Spacecraft\n",
       "</a>\n",
       "</div>\n",
       "</div>\n",
       "<div class=\"grid_layout\">\n",
       "<div class=\"slick-nav_container\">\n",
       "<div class=\"slick-nav\"></div>\n",
       "</div>\n",
       "</div>\n",
       "</div>\n",
       "</section>\n",
       "</div>\n",
       "</section>\n",
       "</div>"
      ]
     },
     "execution_count": 20,
     "metadata": {},
     "output_type": "execute_result"
    }
   ],
   "source": [
    "pg= soup.find(\"div\", {\"id\": \"page\"})\n",
    "pg"
   ]
  },
  {
   "cell_type": "code",
   "execution_count": 19,
   "metadata": {},
   "outputs": [],
   "source": [
    "items= pg.find('ul', class_=\"item_list \")\n",
    "items"
   ]
  },
  {
   "cell_type": "code",
   "execution_count": null,
   "metadata": {},
   "outputs": [],
   "source": []
  }
 ],
 "metadata": {
  "kernelspec": {
   "display_name": "Python 3",
   "language": "python",
   "name": "python3"
  },
  "language_info": {
   "codemirror_mode": {
    "name": "ipython",
    "version": 3
   },
   "file_extension": ".py",
   "mimetype": "text/x-python",
   "name": "python",
   "nbconvert_exporter": "python",
   "pygments_lexer": "ipython3",
   "version": "3.6.6"
  }
 },
 "nbformat": 4,
 "nbformat_minor": 2
}
